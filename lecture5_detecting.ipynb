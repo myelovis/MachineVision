{
 "cells": [
  {
   "cell_type": "code",
   "execution_count": 1,
   "id": "f3855764",
   "metadata": {},
   "outputs": [],
   "source": [
    "import numpy as np\n",
    "import cv2 as cv\n",
    "import matplotlib.pyplot as plt"
   ]
  },
  {
   "cell_type": "code",
   "execution_count": 2,
   "id": "9f34c50e",
   "metadata": {},
   "outputs": [],
   "source": [
    "path1 = \"ros.png\"\n",
    "path2 = \"ros_i.png\"\n",
    "img1 = cv.imread(path1, cv.IMREAD_GRAYSCALE)\n",
    "img2 = cv.imread(path2, cv.IMREAD_GRAYSCALE)"
   ]
  },
  {
   "cell_type": "code",
   "execution_count": 3,
   "id": "0b416a28",
   "metadata": {},
   "outputs": [
    {
     "data": {
      "text/plain": [
       "(960, 1801)"
      ]
     },
     "execution_count": 3,
     "metadata": {},
     "output_type": "execute_result"
    }
   ],
   "source": [
    "img1.shape"
   ]
  },
  {
   "cell_type": "code",
   "execution_count": 4,
   "id": "8e651769",
   "metadata": {},
   "outputs": [],
   "source": [
    "orb=cv.ORB_create()\n",
    "# Keypoint, Descriptor:\n",
    "kp1, des1 = orb.detectAndCompute(img1, None)\n",
    "kp2, des2 = orb.detectAndCompute(img2, None)"
   ]
  },
  {
   "cell_type": "code",
   "execution_count": 5,
   "id": "2711bff7",
   "metadata": {},
   "outputs": [
    {
     "data": {
      "text/plain": [
       "410"
      ]
     },
     "execution_count": 5,
     "metadata": {},
     "output_type": "execute_result"
    }
   ],
   "source": [
    "# How many keypoints (nfeatures) in image:\n",
    "# It considers there are 410 points which is good enough to be keypoints of the image\n",
    "len(kp1)"
   ]
  },
  {
   "cell_type": "code",
   "execution_count": 6,
   "id": "22910d85",
   "metadata": {},
   "outputs": [
    {
     "data": {
      "text/plain": [
       "500"
      ]
     },
     "execution_count": 6,
     "metadata": {},
     "output_type": "execute_result"
    }
   ],
   "source": [
    "len(kp2)"
   ]
  },
  {
   "cell_type": "code",
   "execution_count": 7,
   "id": "0e78fc24",
   "metadata": {},
   "outputs": [
    {
     "data": {
      "text/plain": [
       "array([[ 24, 104, 126, ..., 139, 231, 194],\n",
       "       [138,  40, 126, ..., 138, 117, 146],\n",
       "       [ 10, 214, 115, ..., 140, 245, 255],\n",
       "       ...,\n",
       "       [  2,  12,   2, ...,  10,  49, 136],\n",
       "       [  6,  12,  82, ...,  11,  49, 128],\n",
       "       [  2,  12,  98, ...,  10, 113, 136]], dtype=uint8)"
      ]
     },
     "execution_count": 7,
     "metadata": {},
     "output_type": "execute_result"
    }
   ],
   "source": [
    "des1"
   ]
  },
  {
   "cell_type": "code",
   "execution_count": 8,
   "id": "24ff85b3",
   "metadata": {},
   "outputs": [
    {
     "data": {
      "text/plain": [
       "array([[238,  52, 180, ..., 109, 214, 247],\n",
       "       [167, 106,  96, ..., 141,  90, 196],\n",
       "       [ 90, 187, 148, ...,   4, 139,  31],\n",
       "       ...,\n",
       "       [  2, 141,   2, ...,   8, 177, 136],\n",
       "       [ 56, 153, 120, ..., 139,  52, 251],\n",
       "       [ 59, 141,  98, ..., 132, 240,  92]], dtype=uint8)"
      ]
     },
     "execution_count": 8,
     "metadata": {},
     "output_type": "execute_result"
    }
   ],
   "source": [
    "des2"
   ]
  },
  {
   "cell_type": "code",
   "execution_count": 9,
   "id": "84e15d29",
   "metadata": {},
   "outputs": [
    {
     "data": {
      "text/plain": [
       "(410, 32)"
      ]
     },
     "execution_count": 9,
     "metadata": {},
     "output_type": "execute_result"
    }
   ],
   "source": [
    "# Meaningful point it consider to understand the image:\n",
    "des1.shape"
   ]
  },
  {
   "cell_type": "raw",
   "id": "86fcbe7b",
   "metadata": {},
   "source": [
    "In the Brute Force Matcher (BFMatcher) of OpenCV, the `match` function calculates the distance between descriptors of keypoints to find the best matches. The distance is a measure of dissimilarity between two descriptors. There are several types of distances used in BFMatcher, including:\n",
    "\n",
    "1. **Hamming Distance:**\n",
    "   Hamming distance is used when you're working with binary descriptors like ORB, BRIEF, and BRISK. It calculates the number of differing bits between two binary strings.\n",
    "\n",
    "2. **L2 (Euclidean) Distance:**\n",
    "   L2 distance is used for real-valued descriptors. It calculates the Euclidean distance between two points in a multidimensional space.\n",
    "\n",
    "3. **L1 (Manhattan) Distance:**\n",
    "   L1 distance calculates the sum of absolute differences between corresponding elements of two vectors.\n",
    "\n",
    "When you perform matching using BFMatcher, it returns a list of DMatch objects, where each DMatch object contains the following information:\n",
    "\n",
    "- `DMatch.queryIdx`: Index of the feature in the query descriptors (keypoints from the first image).\n",
    "- `DMatch.trainIdx`: Index of the feature in the train descriptors (keypoints from the second image).\n",
    "- `DMatch.distance`: The distance between descriptors. Smaller distances indicate better matches."
   ]
  },
  {
   "cell_type": "code",
   "execution_count": 10,
   "id": "6180dbc6",
   "metadata": {},
   "outputs": [
    {
     "data": {
      "image/png": "[encoded data removed]",
      "text/plain": [
       "<Figure size 432x288 with 1 Axes>"
      ]
     },
     "metadata": {
      "needs_background": "light"
     },
     "output_type": "display_data"
    },
    {
     "data": {
      "text/plain": [
       "(<matplotlib.image.AxesImage at 0x7fa5752db310>, None)"
      ]
     },
     "execution_count": 10,
     "metadata": {},
     "output_type": "execute_result"
    }
   ],
   "source": [
    "# Use some algorthims to matching those descriptors, eg. BF-matcher\n",
    "bf = cv.BFMatcher(cv.NORM_HAMMING, crossCheck=True)\n",
    "# Calculate the match\n",
    "matches = bf.match(des1, des2)\n",
    "# Sort the matches in order of how near each other they are\n",
    "matches = sorted(matches, key = lambda x: x.distance)\n",
    "# Draw first 10 matches \n",
    "img3 = cv.drawMatches(img1,\n",
    "                      kp1,\n",
    "                      img2,\n",
    "                      kp2,\n",
    "                      matches[:10],\n",
    "                      None,\n",
    "                      flags=cv.DrawMatchesFlags_NOT_DRAW_SINGLE_POINTS)\n",
    "plt.imshow(img3), plt.show()"
   ]
  },
  {
   "cell_type": "raw",
   "id": "eed01421",
   "metadata": {},
   "source": [
    "https://docs.opencv.org/3.4/db/d95/classcv_1_1ORB.html\n",
    "\n",
    "orb = cv2.ORB_create(nfeatures=1000, scaleFactor=1.2, nlevels=8, edgeThreshold=31, \n",
    "                    firstLevel=0, WTA_K=2, scoreType=cv2.ORB_HARRIS_SCORE, patchSize=31, fastThreshold=20)\n",
    "                    \n",
    ". scaleFactor: Using when images are in different ratios, eg. 1.2 its scale 20%\n",
    ". nlevels: The number of time the images are scaled 8 times, building a pyramid of 8 layers\n",
    ". scoreType:\n",
    ". patchsize: eg. = 31 means test/scan each keypoints within a 31 pixels around a single keypoint, eg. 31pixels North, then South, West and Eastern."
   ]
  },
  {
   "cell_type": "raw",
   "id": "66dd8b3c",
   "metadata": {},
   "source": [
    "https://circuitdigest.com/tutorial/real-life-object-detection-using-opencv-python-detecting-objects-in-live-video\n",
    "    \n",
    "In the ORB-code section, it is not Object Detection because it just find the matches of image from images.\n",
    "And, Object Detection must be to clarify: 'Where exactly is the Object'"
   ]
  }
 ],
 "metadata": {
  "kernelspec": {
   "display_name": "Python 3 (ipykernel)",
   "language": "python",
   "name": "python3"
  },
  "language_info": {
   "codemirror_mode": {
    "name": "ipython",
    "version": 3
   },
   "file_extension": ".py",
   "mimetype": "text/x-python",
   "name": "python",
   "nbconvert_exporter": "python",
   "pygments_lexer": "ipython3",
   "version": "3.8.10"
  }
 },
 "nbformat": 4,
 "nbformat_minor": 5
}
